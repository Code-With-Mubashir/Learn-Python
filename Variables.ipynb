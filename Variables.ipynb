{
 "cells": [
  {
   "cell_type": "markdown",
   "id": "b1688a78",
   "metadata": {},
   "source": [
    "# WHAT ARE VARIABLES ?\n",
    "variables are container used to store different types of data type.Simply, variable is a name that stores value.\n",
    "\n",
    "#### ✅ VARIABLES NAMING RULES\n",
    "- Start with letter and underscore.\n",
    "- Don't start with number\n",
    "- Can contain letters, numbers, and underscores\n",
    "- No special character or space allowed\n",
    "- Variable names are case sensative\n",
    "- Don't use python keyword"
   ]
  },
  {
   "cell_type": "code",
   "execution_count": 1,
   "id": "f154c3e0",
   "metadata": {},
   "outputs": [
    {
     "name": "stdout",
     "output_type": "stream",
     "text": [
      "Robert\n"
     ]
    }
   ],
   "source": [
    "name = \"Robert\"\n",
    "print(name)"
   ]
  },
  {
   "cell_type": "code",
   "execution_count": 2,
   "id": "1da6ca14",
   "metadata": {},
   "outputs": [
    {
     "name": "stdout",
     "output_type": "stream",
     "text": [
      "The Eve is 17 years old\n"
     ]
    }
   ],
   "source": [
    "name = \"Eve\"\n",
    "Age = \"17\"\n",
    "print(f\"The {name} is {Age} years old\")\n"
   ]
  },
  {
   "cell_type": "code",
   "execution_count": 3,
   "id": "3bf3ead2",
   "metadata": {},
   "outputs": [
    {
     "name": "stdout",
     "output_type": "stream",
     "text": [
      "Charle\n"
     ]
    }
   ],
   "source": [
    "user_name = \"Charle\"\n",
    "print(user_name)"
   ]
  },
  {
   "cell_type": "code",
   "execution_count": 1,
   "id": "276b9195",
   "metadata": {},
   "outputs": [
    {
     "name": "stdout",
     "output_type": "stream",
     "text": [
      "36.6\n"
     ]
    }
   ],
   "source": [
    "tempreature = 36.6\n",
    "print(tempreature)"
   ]
  },
  {
   "cell_type": "code",
   "execution_count": 2,
   "id": "62ae60e1",
   "metadata": {},
   "outputs": [
    {
     "name": "stdout",
     "output_type": "stream",
     "text": [
      "30\n"
     ]
    }
   ],
   "source": [
    "a = 10\n",
    "b = 20\n",
    "z = a + b\n",
    "print(z)"
   ]
  }
 ],
 "metadata": {
  "kernelspec": {
   "display_name": "Python 3",
   "language": "python",
   "name": "python3"
  },
  "language_info": {
   "codemirror_mode": {
    "name": "ipython",
    "version": 3
   },
   "file_extension": ".py",
   "mimetype": "text/x-python",
   "name": "python",
   "nbconvert_exporter": "python",
   "pygments_lexer": "ipython3",
   "version": "3.12.4"
  }
 },
 "nbformat": 4,
 "nbformat_minor": 5
}
