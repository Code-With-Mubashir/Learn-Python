{
 "cells": [
  {
   "cell_type": "markdown",
   "id": "0093eefb",
   "metadata": {},
   "source": [
    "# 🧮 DATA TYPES\n",
    "Data types in python define the type of value a variable holds _______ whether it's number, text, list, etc.\n",
    "\n",
    "### 🔢 Common Built-in Data Types in Python\n",
    "\n",
    "Some common built  in data types in python are given below. \n",
    "\n"
   ]
  },
  {
   "cell_type": "markdown",
   "id": "c6719eb0",
   "metadata": {},
   "source": [
    "#### 1. Numeric Data Type\n",
    "Numeric data type represent different type of numbers such as Int, float and complex.\n",
    "##### Integer \n",
    "Integer data type represents whole number which is stored in variable.\n",
    "##### Float\n",
    "Float data type represents decimal number which is stored in variable.\n",
    "##### Complex\n",
    "Complex data type represents complex number — number with real part and imaginary part."
   ]
  },
  {
   "cell_type": "code",
   "execution_count": 1,
   "id": "85e92d2c",
   "metadata": {},
   "outputs": [
    {
     "name": "stdout",
     "output_type": "stream",
     "text": [
      "30\n"
     ]
    }
   ],
   "source": [
    "x = 10\n",
    "y = 20 \n",
    "z = x + y\n",
    "print(z)"
   ]
  },
  {
   "cell_type": "code",
   "execution_count": 6,
   "id": "7b3c1f86",
   "metadata": {},
   "outputs": [
    {
     "name": "stdout",
     "output_type": "stream",
     "text": [
      "2500\n"
     ]
    }
   ],
   "source": [
    "x = 30\n",
    "y = 40\n",
    "z = x**2 + y**2\n",
    "print(z)"
   ]
  },
  {
   "cell_type": "code",
   "execution_count": 7,
   "id": "723482cc",
   "metadata": {},
   "outputs": [
    {
     "name": "stdout",
     "output_type": "stream",
     "text": [
      "<class 'float'>\n",
      "<class 'bool'>\n"
     ]
    }
   ],
   "source": [
    "tempreature = 37.5\n",
    "is_raining = True\n",
    "print(type(tempreature))\n",
    "print(type(is_raining))"
   ]
  },
  {
   "cell_type": "code",
   "execution_count": 8,
   "id": "a4ba31c6",
   "metadata": {},
   "outputs": [
    {
     "name": "stdout",
     "output_type": "stream",
     "text": [
      "<class 'complex'>\n",
      "10.0\n"
     ]
    }
   ],
   "source": [
    "x = 10 + 20j\n",
    "print(type(x))\n",
    "print(x.real)"
   ]
  },
  {
   "cell_type": "code",
   "execution_count": 10,
   "id": "93a1a99d",
   "metadata": {},
   "outputs": [
    {
     "name": "stdout",
     "output_type": "stream",
     "text": [
      "<class 'complex'>\n"
     ]
    }
   ],
   "source": [
    "x = 10 - 20j\n",
    "print(type(x))"
   ]
  },
  {
   "cell_type": "markdown",
   "id": "2ac6779a",
   "metadata": {},
   "source": [
    "### 2. String Data Type\n",
    "Strings are the sequence of character and we write string under double or single quotes at the beginning and end of the line."
   ]
  },
  {
   "cell_type": "code",
   "execution_count": 15,
   "id": "c439a250",
   "metadata": {},
   "outputs": [
    {
     "name": "stdout",
     "output_type": "stream",
     "text": [
      "<class 'str'>\n",
      "<class 'str'>\n",
      "Mubashir is a Python Developer\n"
     ]
    }
   ],
   "source": [
    "name = \"Mubashir\"\n",
    "Developer = 'Python'\n",
    "print(type(name))\n",
    "print(type(Developer))\n",
    "print(f\"{name} is a {Developer} Developer\")"
   ]
  },
  {
   "cell_type": "code",
   "execution_count": 16,
   "id": "a17afa5d",
   "metadata": {},
   "outputs": [
    {
     "name": "stdout",
     "output_type": "stream",
     "text": [
      "Apple\n"
     ]
    }
   ],
   "source": [
    "fruit_name = 'Apple'\n",
    "print(fruit_name)"
   ]
  },
  {
   "cell_type": "markdown",
   "id": "3c521559",
   "metadata": {},
   "source": [
    "### 3.Boolean Data Type\n",
    "Boolean data type in python represent one of two values. These are case-sensative.\n",
    "- True\n",
    "- False\n",
    "  "
   ]
  },
  {
   "cell_type": "code",
   "execution_count": 17,
   "id": "7acdc2d8",
   "metadata": {},
   "outputs": [
    {
     "name": "stdout",
     "output_type": "stream",
     "text": [
      "<class 'bool'>\n",
      "<class 'bool'>\n"
     ]
    }
   ],
   "source": [
    "is_raining = True\n",
    "is_sunny = False\n",
    "print(type(is_raining))\n",
    "print(type(is_sunny))"
   ]
  },
  {
   "cell_type": "code",
   "execution_count": 18,
   "id": "457a0fd0",
   "metadata": {},
   "outputs": [
    {
     "name": "stdout",
     "output_type": "stream",
     "text": [
      "<class 'bool'>\n"
     ]
    }
   ],
   "source": [
    "is_stormy = True\n",
    "print(type(is_stormy))"
   ]
  },
  {
   "cell_type": "code",
   "execution_count": 19,
   "id": "f45540e4",
   "metadata": {},
   "outputs": [
    {
     "name": "stdout",
     "output_type": "stream",
     "text": [
      "<class 'bool'>\n"
     ]
    }
   ],
   "source": [
    "is_stdent = False\n",
    "print(type(is_stdent))"
   ]
  },
  {
   "cell_type": "markdown",
   "id": "d3d1949e",
   "metadata": {},
   "source": [
    "### 4. Set Data Type\n",
    "It is unordered, mutuable and unordered collection of unique elements stored in single variable."
   ]
  },
  {
   "cell_type": "code",
   "execution_count": 21,
   "id": "7dbead4f",
   "metadata": {},
   "outputs": [
    {
     "name": "stdout",
     "output_type": "stream",
     "text": [
      "<class 'set'>\n",
      "{1, 2, 3, 4, 5}\n"
     ]
    }
   ],
   "source": [
    "my_set = {1, 2, 3, 4, 5}\n",
    "print(type(my_set))\n",
    "print(my_set)"
   ]
  },
  {
   "cell_type": "code",
   "execution_count": 22,
   "id": "276e77a4",
   "metadata": {},
   "outputs": [
    {
     "name": "stdout",
     "output_type": "stream",
     "text": [
      "{1, 2, 3, 4, 5}\n"
     ]
    }
   ],
   "source": [
    "items = {1, 2, 3, 4, 5, 5, 4, 3, 2, 1}\n",
    "print(items)"
   ]
  },
  {
   "cell_type": "code",
   "execution_count": 23,
   "id": "3fb2fc2c",
   "metadata": {},
   "outputs": [
    {
     "name": "stdout",
     "output_type": "stream",
     "text": [
      "{'Apple', 'Orange', 'Banana', 'Mango'}\n"
     ]
    }
   ],
   "source": [
    "fruit_name = {'Apple', 'Banana', 'Orange', 'Mango', 'Apple'}\n",
    "print(fruit_name)"
   ]
  },
  {
   "cell_type": "markdown",
   "id": "51ef155a",
   "metadata": {},
   "source": []
  },
  {
   "cell_type": "markdown",
   "id": "cf5e13c7",
   "metadata": {},
   "source": [
    "### 5.Tuple Data Type\n",
    "Tuple is an ordered, immutable collection of elements in single variable represented by parenthesis ()."
   ]
  },
  {
   "cell_type": "code",
   "execution_count": 2,
   "id": "9b714106",
   "metadata": {},
   "outputs": [
    {
     "name": "stdout",
     "output_type": "stream",
     "text": [
      "('Apple', 'Banana', 'Cherry')\n"
     ]
    }
   ],
   "source": [
    "fruits_name = (\"Apple\",\"Banana\",\"Cherry\")\n",
    "print(fruits_name)\n"
   ]
  },
  {
   "cell_type": "code",
   "execution_count": 3,
   "id": "98d31af7",
   "metadata": {},
   "outputs": [
    {
     "name": "stdout",
     "output_type": "stream",
     "text": [
      "(1, 2, 3, 4, 5, 5, 4, 3, 2, 1)\n"
     ]
    }
   ],
   "source": [
    "items = (1, 2, 3, 4, 5, 5, 4, 3, 2, 1)\n",
    "print(items)"
   ]
  },
  {
   "cell_type": "code",
   "execution_count": 4,
   "id": "ebf19933",
   "metadata": {},
   "outputs": [
    {
     "name": "stdout",
     "output_type": "stream",
     "text": [
      "('Apple', 'Lahore', 1, 5)\n"
     ]
    }
   ],
   "source": [
    "Mixed_items = (\"Apple\",\"Lahore\",1,5)\n",
    "print(Mixed_items)"
   ]
  },
  {
   "cell_type": "markdown",
   "id": "02bf77ca",
   "metadata": {},
   "source": [
    "### 6. List Data type\n",
    "list is ordered and mutuable used to store multiple items in single variable under brackets []."
   ]
  },
  {
   "cell_type": "code",
   "execution_count": 6,
   "id": "9413f86b",
   "metadata": {},
   "outputs": [
    {
     "name": "stdout",
     "output_type": "stream",
     "text": [
      "[1, 2, 3, 4]\n"
     ]
    }
   ],
   "source": [
    "my_list = [1,2,3,4]\n",
    "print(my_list)"
   ]
  },
  {
   "cell_type": "code",
   "execution_count": 7,
   "id": "02e3aa36",
   "metadata": {},
   "outputs": [
    {
     "name": "stdout",
     "output_type": "stream",
     "text": [
      "['Karachi', 'Lahore', 'Multan']\n"
     ]
    }
   ],
   "source": [
    "city_name = [\"Karachi\",\"Lahore\",\"Multan\"]\n",
    "print(city_name)"
   ]
  },
  {
   "cell_type": "code",
   "execution_count": 8,
   "id": "4433696b",
   "metadata": {},
   "outputs": [
    {
     "name": "stdout",
     "output_type": "stream",
     "text": [
      "['Lahore', 345, 'Apple', 'Banana', 89]\n"
     ]
    }
   ],
   "source": [
    "mixed_list = [\"Lahore\",345,\"Apple\",\"Banana\",89]\n",
    "print(mixed_list)"
   ]
  },
  {
   "cell_type": "markdown",
   "id": "4cd54fa8",
   "metadata": {},
   "source": [
    "### 7. Dictionary Data Type\n",
    "It is collection of unordered, mutable key-value pairs.It allows you to store and retrieve data effectively using keys instead of index positions."
   ]
  },
  {
   "cell_type": "code",
   "execution_count": 12,
   "id": "bc122fac",
   "metadata": {},
   "outputs": [
    {
     "name": "stdout",
     "output_type": "stream",
     "text": [
      "{'Name': 'Mubashir', 'Age': 25, 'City': 'Lahore'}\n",
      "Mubashir\n"
     ]
    }
   ],
   "source": [
    "my_dict = {\"Name\": \"Mubashir\", \"Age\": 25, \"City\": \"Lahore\"}\n",
    "print(my_dict)\n",
    "print(my_dict[\"Name\"])"
   ]
  },
  {
   "cell_type": "code",
   "execution_count": 17,
   "id": "0c513eba",
   "metadata": {},
   "outputs": [
    {
     "name": "stdout",
     "output_type": "stream",
     "text": [
      "Robert\n",
      "15\n",
      "10th\n"
     ]
    }
   ],
   "source": [
    "students = {\n",
    "    \"name\":\"Robert\",\n",
    "    \"Class\": \"10th\",\n",
    "    \"Age\": 15\n",
    "}\n",
    "print(students[\"name\"])\n",
    "print(students[\"Age\"])\n",
    "print(students[\"Class\"])\n"
   ]
  }
 ],
 "metadata": {
  "kernelspec": {
   "display_name": "Python 3",
   "language": "python",
   "name": "python3"
  },
  "language_info": {
   "codemirror_mode": {
    "name": "ipython",
    "version": 3
   },
   "file_extension": ".py",
   "mimetype": "text/x-python",
   "name": "python",
   "nbconvert_exporter": "python",
   "pygments_lexer": "ipython3",
   "version": "3.12.4"
  }
 },
 "nbformat": 4,
 "nbformat_minor": 5
}
