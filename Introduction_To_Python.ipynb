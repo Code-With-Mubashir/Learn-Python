{
 "cells": [
  {
   "cell_type": "markdown",
   "id": "b236a717",
   "metadata": {},
   "source": [
    "# INTRODUCTION TO PYTHON\n",
    "Python is versatile, easy to use and readable high level programming language developed by Guido Van Rossum. It's widely used in software development and Data Science.\n",
    "\n",
    "### USES OF PYTHON\n",
    "There are various use of python in today's field. Some of which are given below\n",
    "- Web Development\n",
    "- Mobile Application Development\n",
    "- Automation\n",
    "- Software Development\n",
    "- Cyber security \n",
    "- Game Development\n",
    "- Arificial Intelligence\n",
    "- Data Science"
   ]
  },
  {
   "cell_type": "markdown",
   "id": "f132aa3e",
   "metadata": {},
   "source": [
    "## HISTORY OF PYTHON\n",
    "Python was developed by Guido Van Rassum, a Dutch programmmer, was working at Centrum Wiskunde & informatica CWI in Netherland who want to create easy to read, powerful and open source programming language.\n",
    "\n",
    "He began developing python language in December 1989s, and released first version in 0.9.0 in February 1991.Various versions of python released in different era.\n"
   ]
  },
  {
   "cell_type": "markdown",
   "id": "01e487bf",
   "metadata": {},
   "source": [
    "### PYTHON'S SYNTAX\n",
    "Python is very simple,concise, easy to use and readable programming language. It's syntax is very simple\n",
    "\n",
    "#### 🐍 Python Syntax Basics\n",
    "- Print is built in function in python which is used to display data on the screen.\n",
    "- No need to use semicolons ; at the end of the line.\n",
    "- No need to declare data types\n",
    "- No {} or end,----indentation is mandatory.\n",
    "- def is used to define function\n",
    "- f\"... is used for fomatting string\n",
    "- Pthon is case sensative"
   ]
  },
  {
   "cell_type": "code",
   "execution_count": 1,
   "id": "2b79f06a",
   "metadata": {},
   "outputs": [
    {
     "name": "stdout",
     "output_type": "stream",
     "text": [
      "Hello World!\n"
     ]
    }
   ],
   "source": [
    "print(\"Hello World!\")"
   ]
  },
  {
   "cell_type": "code",
   "execution_count": 2,
   "id": "31698afa",
   "metadata": {},
   "outputs": [
    {
     "name": "stdout",
     "output_type": "stream",
     "text": [
      "My name is Muaz and my age is 20\n"
     ]
    }
   ],
   "source": [
    "name = \"Muaz\"\n",
    "age = 20\n",
    "print(f\"My name is {name} and my age is {age}\")"
   ]
  },
  {
   "cell_type": "code",
   "execution_count": 3,
   "id": "2e63699b",
   "metadata": {},
   "outputs": [
    {
     "name": "stdout",
     "output_type": "stream",
     "text": [
      "apple\n",
      "banana\n",
      "cherry\n"
     ]
    }
   ],
   "source": [
    "fruits = [\"apple\", \"banana\", \"cherry\"]\n",
    "for fruit in fruits:\n",
    "    print(fruit)"
   ]
  },
  {
   "cell_type": "code",
   "execution_count": 4,
   "id": "bc2bebd5",
   "metadata": {},
   "outputs": [],
   "source": [
    "def greet(name):\n",
    "    return f\"Hello, {name}!\""
   ]
  },
  {
   "cell_type": "markdown",
   "id": "99836430",
   "metadata": {},
   "source": [
    "## HELLO WORLD PROGRAM\n",
    "Print is built in function in python used to display data on the screen. We can simply print the hello world program.\n",
    "\n"
   ]
  },
  {
   "cell_type": "code",
   "execution_count": 1,
   "id": "79a1289e",
   "metadata": {},
   "outputs": [
    {
     "name": "stdout",
     "output_type": "stream",
     "text": [
      "Hello World!\n"
     ]
    }
   ],
   "source": [
    "print(\"Hello World!\")"
   ]
  },
  {
   "cell_type": "markdown",
   "id": "ae50ce32",
   "metadata": {},
   "source": [
    "## COMMENTS \n",
    "Comments are the lines ignored by python program in code. There are two types of comments which are given below.\n",
    "- Single line comment\n",
    "- Multiline comment \n",
    "  \n",
    "#### SINGLE LINE COMMENT\n",
    " We use # sign at the start of the line to explain the line of code.\n",
    "\n",
    "#### MULTILINE COMMENT\n",
    "We use single or triple line quote before or after the beginning of the line."
   ]
  },
  {
   "cell_type": "code",
   "execution_count": 2,
   "id": "21901424",
   "metadata": {},
   "outputs": [],
   "source": [
    "x = 100 # integer"
   ]
  },
  {
   "cell_type": "code",
   "execution_count": 3,
   "id": "9b60ed76",
   "metadata": {},
   "outputs": [],
   "source": [
    "Tempreature = 36.6 # float\n"
   ]
  },
  {
   "cell_type": "code",
   "execution_count": 4,
   "id": "3fbeb30a",
   "metadata": {},
   "outputs": [],
   "source": [
    "is_student = True # boolean"
   ]
  },
  {
   "cell_type": "code",
   "execution_count": 5,
   "id": "c5c65ecc",
   "metadata": {},
   "outputs": [],
   "source": [
    "c = 'A' # character"
   ]
  },
  {
   "cell_type": "code",
   "execution_count": 6,
   "id": "0d26500a",
   "metadata": {},
   "outputs": [
    {
     "data": {
      "text/plain": [
       "'\\nThis is a multiline string,\\noften used as a multiline comment or docstring.\\n'"
      ]
     },
     "execution_count": 6,
     "metadata": {},
     "output_type": "execute_result"
    }
   ],
   "source": [
    "    \"\"\"\n",
    "    This is a multiline string,\n",
    "    often used as a multiline comment or docstring.\n",
    "    \"\"\""
   ]
  },
  {
   "cell_type": "code",
   "execution_count": 7,
   "id": "26078fde",
   "metadata": {},
   "outputs": [
    {
     "name": "stdout",
     "output_type": "stream",
     "text": [
      "Welcome to Python programming!\n"
     ]
    }
   ],
   "source": [
    "    '''\n",
    "    This is another way to create a multi-line comment.\n",
    "    It uses triple quotes and is ignored by the interpreter\n",
    "    if not assigned to a variable.\n",
    "    '''\n",
    "    print(\"Welcome to Python programming!\")"
   ]
  }
 ],
 "metadata": {
  "kernelspec": {
   "display_name": "Python 3",
   "language": "python",
   "name": "python3"
  },
  "language_info": {
   "codemirror_mode": {
    "name": "ipython",
    "version": 3
   },
   "file_extension": ".py",
   "mimetype": "text/x-python",
   "name": "python",
   "nbconvert_exporter": "python",
   "pygments_lexer": "ipython3",
   "version": "3.12.4"
  }
 },
 "nbformat": 4,
 "nbformat_minor": 5
}
