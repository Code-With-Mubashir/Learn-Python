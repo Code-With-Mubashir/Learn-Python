{
 "cells": [
  {
   "cell_type": "markdown",
   "id": "e5fff70c",
   "metadata": {},
   "source": [
    "# TYPE CASTING\n",
    "It is also called type conversion which is used to manually convert from one data type to another."
   ]
  },
  {
   "cell_type": "code",
   "execution_count": 1,
   "id": "fe2473da",
   "metadata": {},
   "outputs": [
    {
     "name": "stdout",
     "output_type": "stream",
     "text": [
      "30\n"
     ]
    }
   ],
   "source": [
    "a = 30\n",
    "b = float(a)\n",
    "print(a)"
   ]
  },
  {
   "cell_type": "markdown",
   "id": "1ea08e79",
   "metadata": {},
   "source": [
    "### TYPES OF CASTING\n",
    "1. Implicit Casting\n",
    "2. Explicit Casting\n",
    "   "
   ]
  },
  {
   "cell_type": "markdown",
   "id": "aa030cd9",
   "metadata": {},
   "source": [
    "#### 1.Implicit Casting\n",
    " Python automatically convert smaller to larger data types."
   ]
  },
  {
   "cell_type": "code",
   "execution_count": 2,
   "id": "09c6e93b",
   "metadata": {},
   "outputs": [
    {
     "name": "stdout",
     "output_type": "stream",
     "text": [
      "5.5\n"
     ]
    }
   ],
   "source": [
    "x = 2\n",
    "y = 3.5\n",
    "z = x + y \n",
    "print(z)"
   ]
  },
  {
   "cell_type": "markdown",
   "id": "a2f2deba",
   "metadata": {},
   "source": [
    "### Explicit Casting\n",
    "We mannually convert data by using built in functions."
   ]
  },
  {
   "cell_type": "code",
   "execution_count": 3,
   "id": "8bf9f8fb",
   "metadata": {},
   "outputs": [
    {
     "name": "stdout",
     "output_type": "stream",
     "text": [
      "30 <class 'str'>\n"
     ]
    }
   ],
   "source": [
    "age = 30\n",
    "text = str(age)\n",
    "print(text,type(text))"
   ]
  }
 ],
 "metadata": {
  "kernelspec": {
   "display_name": "Python 3",
   "language": "python",
   "name": "python3"
  },
  "language_info": {
   "codemirror_mode": {
    "name": "ipython",
    "version": 3
   },
   "file_extension": ".py",
   "mimetype": "text/x-python",
   "name": "python",
   "nbconvert_exporter": "python",
   "pygments_lexer": "ipython3",
   "version": "3.12.4"
  }
 },
 "nbformat": 4,
 "nbformat_minor": 5
}
